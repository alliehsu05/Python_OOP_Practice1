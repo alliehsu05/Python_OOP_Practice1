{
 "cells": [
  {
   "cell_type": "code",
   "execution_count": 21,
   "metadata": {
    "scrolled": true
   },
   "outputs": [],
   "source": [
    "class Employee:\n",
    "    def __init__(self, name, age):\n",
    "        self.name = name\n",
    "        self.age = age\n",
    "        \n",
    "    def description(self):\n",
    "        return '{} is {} years old.'.format(self.name, self.age)\n",
    "    \n",
    "    def speak(self, sound):\n",
    "        return '{} says {}.'.format(self.name, sound)"
   ]
  },
  {
   "cell_type": "code",
   "execution_count": 22,
   "metadata": {},
   "outputs": [
    {
     "name": "stdout",
     "output_type": "stream",
     "text": [
      "Allie\n",
      "10\n",
      "Allie is 10 years old.\n",
      "Allie says Good Morning.\n",
      "Allie says Good bye.\n"
     ]
    }
   ],
   "source": [
    "allie = Employee('Allie', 10)\n",
    "\n",
    "print(allie.name)\n",
    "print(allie.age)\n",
    "print(allie.description())\n",
    "print(allie.speak('Good Morning'))\n",
    "print(allie.speak('Good bye'))"
   ]
  },
  {
   "cell_type": "code",
   "execution_count": 23,
   "metadata": {},
   "outputs": [
    {
     "data": {
      "text/plain": [
       "5"
      ]
     },
     "execution_count": 23,
     "metadata": {},
     "output_type": "execute_result"
    }
   ],
   "source": [
    "allie.age = 5\n",
    "allie.age"
   ]
  },
  {
   "cell_type": "markdown",
   "metadata": {},
   "source": [
    "# Inheritance"
   ]
  },
  {
   "cell_type": "code",
   "execution_count": 24,
   "metadata": {},
   "outputs": [],
   "source": [
    "class Manager(Employee):\n",
    "    #add new method\n",
    "    def supervise(self):\n",
    "        return '{} is supervising'.format(self.name)\n",
    "    \n",
    "class Boss(Employee):\n",
    "    #add new method\n",
    "    def fire(self):\n",
    "        return '{} is firing employee'.format(self.name)"
   ]
  },
  {
   "cell_type": "code",
   "execution_count": 25,
   "metadata": {
    "scrolled": true
   },
   "outputs": [
    {
     "name": "stdout",
     "output_type": "stream",
     "text": [
      "Ben is 20 years old.\n",
      "Ben says go to work.\n",
      "Ben is supervising\n",
      "Cole is 30 years old.\n",
      "Cole says well done guys.\n",
      "Cole is firing employee\n"
     ]
    }
   ],
   "source": [
    "ben = Manager('Ben', 20)\n",
    "\n",
    "print(ben.description())\n",
    "print(ben.speak('go to work'))\n",
    "print(ben.supervise())\n",
    "\n",
    "cole = Boss('Cole', 30)\n",
    "\n",
    "print(cole.description())\n",
    "print(cole.speak('well done guys'))\n",
    "print(cole.fire())"
   ]
  },
  {
   "cell_type": "markdown",
   "metadata": {},
   "source": [
    "# Encapsulation"
   ]
  },
  {
   "cell_type": "code",
   "execution_count": 26,
   "metadata": {},
   "outputs": [],
   "source": [
    "class Employee:\n",
    "    def __init__(self, name, age):\n",
    "        self.name = name\n",
    "        self.age = age\n",
    "        self.__salary = 100\n",
    "        \n",
    "    def earn(self):\n",
    "        return '{} earns {}.'.format(self.name, self.__salary)\n",
    "   \n",
    "    def setSalary(self, salary):\n",
    "        self.__salary = salary"
   ]
  },
  {
   "cell_type": "code",
   "execution_count": 27,
   "metadata": {
    "scrolled": true
   },
   "outputs": [
    {
     "name": "stdout",
     "output_type": "stream",
     "text": [
      "Allie earns 100.\n",
      "Allie earns 100.\n",
      "Allie earns 200.\n"
     ]
    }
   ],
   "source": [
    "allie = Employee('Allie', 10)\n",
    "print(allie.earn())\n",
    "\n",
    "allie.__salary = 200\n",
    "print(allie.earn())\n",
    "\n",
    "allie.setSalary(200)\n",
    "print(allie.earn())"
   ]
  },
  {
   "cell_type": "markdown",
   "metadata": {},
   "source": [
    "# Polymorphism "
   ]
  },
  {
   "cell_type": "code",
   "execution_count": 28,
   "metadata": {},
   "outputs": [],
   "source": [
    "class Employee:\n",
    "    def __init__(self, name, age):\n",
    "        self.name = name\n",
    "        self.age = age\n",
    "        \n",
    "    def work(self):\n",
    "        return 'Employee work'\n",
    "    \n",
    "class Manager(Employee):\n",
    "    #polymorphsm\n",
    "    def work(self):\n",
    "        return 'Manager work'\n",
    "    \n",
    "class Boss(Employee):\n",
    "    #polymorphsm\n",
    "    def work(self):\n",
    "        return 'Boss work'"
   ]
  },
  {
   "cell_type": "code",
   "execution_count": 29,
   "metadata": {},
   "outputs": [
    {
     "name": "stdout",
     "output_type": "stream",
     "text": [
      "Employee work\n",
      "Manager work\n",
      "Boss work\n"
     ]
    }
   ],
   "source": [
    "allie = Employee('Allie', 10)\n",
    "ben = Manager('Ben', 20)\n",
    "cole = Boss('Cole', 30)\n",
    "\n",
    "print(allie.work())\n",
    "print(ben.work())\n",
    "print(cole.work())"
   ]
  }
 ],
 "metadata": {
  "kernelspec": {
   "display_name": "Python 3",
   "language": "python",
   "name": "python3"
  },
  "language_info": {
   "codemirror_mode": {
    "name": "ipython",
    "version": 3
   },
   "file_extension": ".py",
   "mimetype": "text/x-python",
   "name": "python",
   "nbconvert_exporter": "python",
   "pygments_lexer": "ipython3",
   "version": "3.6.5"
  }
 },
 "nbformat": 4,
 "nbformat_minor": 2
}
